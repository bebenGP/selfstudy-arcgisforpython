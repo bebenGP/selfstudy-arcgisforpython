{
 "cells": [
  {
   "cell_type": "code",
   "execution_count": 1,
   "metadata": {},
   "outputs": [],
   "source": [
    "from arcgis.gis import GIS\n",
    "import pandas as pd\n",
    "from arcgis.features import GeoAccessor, GeoSeriesAccessor\n",
    "%matplotlib inline"
   ]
  },
  {
   "cell_type": "markdown",
   "metadata": {},
   "source": [
    "## Visualizing and Add content "
   ]
  },
  {
   "cell_type": "code",
   "execution_count": 2,
   "metadata": {},
   "outputs": [],
   "source": [
    "gis = GIS(\"https://tiger.maps.arcgis.com/\", \"bputra_tiger\", \"Bonaparte15!\")"
   ]
  },
  {
   "cell_type": "code",
   "execution_count": 3,
   "metadata": {},
   "outputs": [
    {
     "data": {
      "text/html": [
       "<div class=\"item_container\" style=\"height: auto; overflow: hidden; border: 1px solid #cfcfcf; border-radius: 2px; background: #f6fafa; line-height: 1.21429em; padding: 10px;\">\n",
       "                    <div class=\"item_left\" style=\"width: 210px; float: left;\">\n",
       "                       <a href='https://tiger.maps.arcgis.com/home/item.html?id=d6056e0a3b6445bf831d2c6d02db5b08' target='_blank'>\n",
       "                        <img src='data:image/png;base64,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' width='200' height='133' class=\"itemThumbnail\">\n",
       "                       </a>\n",
       "                    </div>\n",
       "\n",
       "                    <div class=\"item_right\"     style=\"float: none; width: auto; overflow: hidden;\">\n",
       "                        <a href='https://tiger.maps.arcgis.com/home/item.html?id=d6056e0a3b6445bf831d2c6d02db5b08' target='_blank'><b>poi_jakbar_jaksel</b>\n",
       "                        </a>\n",
       "                        <br/>data untuk self study ArcGIS for Python<img src='https://tiger.maps.arcgis.com/home/js/jsapi/esri/css/images/item_type_icons/featureshosted16.png' style=\"vertical-align:middle;\" width=16 height=16>Feature Layer Collection by bputra_tiger\n",
       "                        <br/>Last Modified: June 20, 2024\n",
       "                        <br/>0 comments, 13 views\n",
       "                    </div>\n",
       "                </div>\n",
       "                "
      ],
      "text/plain": [
       "<Item title:\"poi_jakbar_jaksel\" type:Feature Layer Collection owner:bputra_tiger>"
      ]
     },
     "execution_count": 3,
     "metadata": {},
     "output_type": "execute_result"
    }
   ],
   "source": [
    "pop_density = gis.content.get('d6056e0a3b6445bf831d2c6d02db5b08')\n",
    "pop_density"
   ]
  },
  {
   "cell_type": "code",
   "execution_count": 4,
   "metadata": {},
   "outputs": [
    {
     "data": {
      "application/vnd.jupyter.widget-view+json": {
       "model_id": "c75de6d914db4cec92a10a44ee7a4804",
       "version_major": 2,
       "version_minor": 0
      },
      "text/plain": [
       "MapView(layout=Layout(height='400px', width='100%'))"
      ]
     },
     "metadata": {},
     "output_type": "display_data"
    },
    {
     "data": {
      "text/html": [
       "<div class=\"map-static-img-preview-d438d82c-1559-4d7b-98d1-b052075e2140\"><img src=\"\"></img></div>"
      ],
      "text/plain": [
       "<IPython.core.display.HTML object>"
      ]
     },
     "metadata": {},
     "output_type": "display_data"
    },
    {
     "data": {
      "text/html": [
       "<div class=\"map-html-embed-preview-d438d82c-1559-4d7b-98d1-b052075e2140\"></div>"
      ],
      "text/plain": [
       "<IPython.core.display.HTML object>"
      ]
     },
     "metadata": {},
     "output_type": "display_data"
    }
   ],
   "source": [
    "map1 = gis.map(\"Jakarta Selatan, IDN\")\n",
    "map1"
   ]
  },
  {
   "cell_type": "code",
   "execution_count": 5,
   "metadata": {},
   "outputs": [],
   "source": [
    "# Cek list basemap\n",
    "\n",
    "#map1.basemaps"
   ]
  },
  {
   "cell_type": "code",
   "execution_count": 6,
   "metadata": {},
   "outputs": [],
   "source": [
    "map1.basemap = 'arcgis-imagery'"
   ]
  },
  {
   "cell_type": "code",
   "execution_count": 8,
   "metadata": {},
   "outputs": [],
   "source": [
    "map1.add_layer(pop_density)"
   ]
  },
  {
   "cell_type": "markdown",
   "metadata": {},
   "source": [
    "## Spatially Enabled DataFrame - SEDF Map Visualization"
   ]
  },
  {
   "cell_type": "code",
   "execution_count": 9,
   "metadata": {},
   "outputs": [
    {
     "name": "stdout",
     "output_type": "stream",
     "text": [
      "<class 'pandas.core.frame.DataFrame'>\n",
      "RangeIndex: 110649 entries, 0 to 110648\n",
      "Data columns (total 17 columns):\n",
      " #   Column        Non-Null Count   Dtype         \n",
      "---  ------        --------------   -----         \n",
      " 0   OBJECTID      110649 non-null  Int64         \n",
      " 1   poi_name      110649 non-null  string        \n",
      " 2   address       105950 non-null  string        \n",
      " 3   tags          110649 non-null  string        \n",
      " 4   source        110630 non-null  string        \n",
      " 5   createdon     110649 non-null  datetime64[us]\n",
      " 6   modifiedon    0 non-null       datetime64[us]\n",
      " 7   geohash_id    110649 non-null  string        \n",
      " 8   shape_leng_1  100957 non-null  Float64       \n",
      " 9   province      110649 non-null  string        \n",
      " 10  city          110649 non-null  string        \n",
      " 11  district      110649 non-null  string        \n",
      " 12  subdistrict   110649 non-null  string        \n",
      " 13  join_count    9514 non-null    Int32         \n",
      " 14  target_fid    9514 non-null    Int32         \n",
      " 15  shape_leng    9501 non-null    Float64       \n",
      " 16  SHAPE         110649 non-null  geometry      \n",
      "dtypes: Float64(2), Int32(2), Int64(1), datetime64[us](2), geometry(1), string(9)\n",
      "memory usage: 14.0 MB\n"
     ]
    },
    {
     "data": {
      "text/html": [
       "<div>\n",
       "<style scoped>\n",
       "    .dataframe tbody tr th:only-of-type {\n",
       "        vertical-align: middle;\n",
       "    }\n",
       "\n",
       "    .dataframe tbody tr th {\n",
       "        vertical-align: top;\n",
       "    }\n",
       "\n",
       "    .dataframe thead th {\n",
       "        text-align: right;\n",
       "    }\n",
       "</style>\n",
       "<table border=\"1\" class=\"dataframe\">\n",
       "  <thead>\n",
       "    <tr style=\"text-align: right;\">\n",
       "      <th></th>\n",
       "      <th>OBJECTID</th>\n",
       "      <th>poi_name</th>\n",
       "      <th>address</th>\n",
       "      <th>tags</th>\n",
       "      <th>source</th>\n",
       "      <th>createdon</th>\n",
       "      <th>modifiedon</th>\n",
       "      <th>geohash_id</th>\n",
       "      <th>shape_leng_1</th>\n",
       "      <th>province</th>\n",
       "      <th>city</th>\n",
       "      <th>district</th>\n",
       "      <th>subdistrict</th>\n",
       "      <th>join_count</th>\n",
       "      <th>target_fid</th>\n",
       "      <th>shape_leng</th>\n",
       "      <th>SHAPE</th>\n",
       "    </tr>\n",
       "  </thead>\n",
       "  <tbody>\n",
       "    <tr>\n",
       "      <th>0</th>\n",
       "      <td>1</td>\n",
       "      <td>Masjid AL-MUKMIN</td>\n",
       "      <td>JL. GUNUNG SLIPI RT. 09 /RW. 02 KEL. KAMP. 1 SKIP</td>\n",
       "      <td>Government and Public;Communal;Religion;Mosque</td>\n",
       "      <td>Website Simas Kemenag</td>\n",
       "      <td>2023-09-26 15:00:00</td>\n",
       "      <td>NaT</td>\n",
       "      <td>qqguy26</td>\n",
       "      <td>0.037014</td>\n",
       "      <td>DKI Jakarta</td>\n",
       "      <td>Kota Administrasi Jakarta Barat</td>\n",
       "      <td>Palmerah</td>\n",
       "      <td>Slipi</td>\n",
       "      <td>&lt;NA&gt;</td>\n",
       "      <td>&lt;NA&gt;</td>\n",
       "      <td>&lt;NA&gt;</td>\n",
       "      <td>{\"x\": 11889101.330899999, \"y\": -690832.8486000...</td>\n",
       "    </tr>\n",
       "    <tr>\n",
       "      <th>1</th>\n",
       "      <td>2</td>\n",
       "      <td>Masjid Al-Maghfiroh</td>\n",
       "      <td>Jl. KS. Tubun III dalam Rt.004/002 Kel. Slipi ...</td>\n",
       "      <td>Government and Public;Communal;Religion;Mosque</td>\n",
       "      <td>Website Simas Kemenag</td>\n",
       "      <td>2023-09-26 15:00:00</td>\n",
       "      <td>NaT</td>\n",
       "      <td>qqguy26</td>\n",
       "      <td>0.037014</td>\n",
       "      <td>DKI Jakarta</td>\n",
       "      <td>Kota Administrasi Jakarta Barat</td>\n",
       "      <td>Palmerah</td>\n",
       "      <td>Slipi</td>\n",
       "      <td>&lt;NA&gt;</td>\n",
       "      <td>&lt;NA&gt;</td>\n",
       "      <td>&lt;NA&gt;</td>\n",
       "      <td>{\"x\": 11889021.804299999, \"y\": -690836.6673000...</td>\n",
       "    </tr>\n",
       "    <tr>\n",
       "      <th>2</th>\n",
       "      <td>3</td>\n",
       "      <td>Masjid Al-Ikhlas</td>\n",
       "      <td>Jl. KS. Tubun III Dalam Rt.004/006 Kel. Slipi ...</td>\n",
       "      <td>Government and Public;Communal;Religion;Mosque</td>\n",
       "      <td>Website Simas Kemenag</td>\n",
       "      <td>2023-09-26 15:00:00</td>\n",
       "      <td>NaT</td>\n",
       "      <td>qqguy22</td>\n",
       "      <td>0.037014</td>\n",
       "      <td>DKI Jakarta</td>\n",
       "      <td>Kota Administrasi Jakarta Barat</td>\n",
       "      <td>Palmerah</td>\n",
       "      <td>Slipi</td>\n",
       "      <td>&lt;NA&gt;</td>\n",
       "      <td>&lt;NA&gt;</td>\n",
       "      <td>&lt;NA&gt;</td>\n",
       "      <td>{\"x\": 11888821.429200001, \"y\": -690852.1935999...</td>\n",
       "    </tr>\n",
       "    <tr>\n",
       "      <th>3</th>\n",
       "      <td>4</td>\n",
       "      <td>Masjid AL-USWAH</td>\n",
       "      <td>Jl. Teknologi VII H.15/B.27 MERUYA UTARA (Komp...</td>\n",
       "      <td>Government and Public;Communal;Religion;Mosque</td>\n",
       "      <td>Website Simas Kemenag</td>\n",
       "      <td>2023-09-26 15:00:00</td>\n",
       "      <td>NaT</td>\n",
       "      <td>qqguv0r</td>\n",
       "      <td>0.107673</td>\n",
       "      <td>DKI Jakarta</td>\n",
       "      <td>Kota Administrasi Jakarta Barat</td>\n",
       "      <td>Kembangan</td>\n",
       "      <td>Meruya Utara</td>\n",
       "      <td>&lt;NA&gt;</td>\n",
       "      <td>&lt;NA&gt;</td>\n",
       "      <td>&lt;NA&gt;</td>\n",
       "      <td>{\"x\": 11883756.392299999, \"y\": -690880.3253000...</td>\n",
       "    </tr>\n",
       "    <tr>\n",
       "      <th>4</th>\n",
       "      <td>5</td>\n",
       "      <td>Masjid AL-ISTIQOMAH</td>\n",
       "      <td>Perm. Pal Merah Permai Desa Mekar Jaya</td>\n",
       "      <td>Government and Public;Communal;Religion;Mosque</td>\n",
       "      <td>Website Simas Kemenag</td>\n",
       "      <td>2023-09-26 15:00:00</td>\n",
       "      <td>NaT</td>\n",
       "      <td>qqguy0k</td>\n",
       "      <td>0.066825</td>\n",
       "      <td>DKI Jakarta</td>\n",
       "      <td>Kota Administrasi Jakarta Barat</td>\n",
       "      <td>Palmerah</td>\n",
       "      <td>Kemanggisan</td>\n",
       "      <td>&lt;NA&gt;</td>\n",
       "      <td>&lt;NA&gt;</td>\n",
       "      <td>&lt;NA&gt;</td>\n",
       "      <td>{\"x\": 11888179.449700002, \"y\": -690892.4519000...</td>\n",
       "    </tr>\n",
       "  </tbody>\n",
       "</table>\n",
       "</div>"
      ],
      "text/plain": [
       "   OBJECTID             poi_name  \\\n",
       "0         1     Masjid AL-MUKMIN   \n",
       "1         2  Masjid Al-Maghfiroh   \n",
       "2         3     Masjid Al-Ikhlas   \n",
       "3         4      Masjid AL-USWAH   \n",
       "4         5  Masjid AL-ISTIQOMAH   \n",
       "\n",
       "                                             address  \\\n",
       "0  JL. GUNUNG SLIPI RT. 09 /RW. 02 KEL. KAMP. 1 SKIP   \n",
       "1  Jl. KS. Tubun III dalam Rt.004/002 Kel. Slipi ...   \n",
       "2  Jl. KS. Tubun III Dalam Rt.004/006 Kel. Slipi ...   \n",
       "3  Jl. Teknologi VII H.15/B.27 MERUYA UTARA (Komp...   \n",
       "4             Perm. Pal Merah Permai Desa Mekar Jaya   \n",
       "\n",
       "                                             tags                 source  \\\n",
       "0  Government and Public;Communal;Religion;Mosque  Website Simas Kemenag   \n",
       "1  Government and Public;Communal;Religion;Mosque  Website Simas Kemenag   \n",
       "2  Government and Public;Communal;Religion;Mosque  Website Simas Kemenag   \n",
       "3  Government and Public;Communal;Religion;Mosque  Website Simas Kemenag   \n",
       "4  Government and Public;Communal;Religion;Mosque  Website Simas Kemenag   \n",
       "\n",
       "            createdon modifiedon geohash_id  shape_leng_1     province  \\\n",
       "0 2023-09-26 15:00:00        NaT    qqguy26      0.037014  DKI Jakarta   \n",
       "1 2023-09-26 15:00:00        NaT    qqguy26      0.037014  DKI Jakarta   \n",
       "2 2023-09-26 15:00:00        NaT    qqguy22      0.037014  DKI Jakarta   \n",
       "3 2023-09-26 15:00:00        NaT    qqguv0r      0.107673  DKI Jakarta   \n",
       "4 2023-09-26 15:00:00        NaT    qqguy0k      0.066825  DKI Jakarta   \n",
       "\n",
       "                              city   district   subdistrict  join_count  \\\n",
       "0  Kota Administrasi Jakarta Barat   Palmerah         Slipi        <NA>   \n",
       "1  Kota Administrasi Jakarta Barat   Palmerah         Slipi        <NA>   \n",
       "2  Kota Administrasi Jakarta Barat   Palmerah         Slipi        <NA>   \n",
       "3  Kota Administrasi Jakarta Barat  Kembangan  Meruya Utara        <NA>   \n",
       "4  Kota Administrasi Jakarta Barat   Palmerah   Kemanggisan        <NA>   \n",
       "\n",
       "   target_fid  shape_leng                                              SHAPE  \n",
       "0        <NA>        <NA>  {\"x\": 11889101.330899999, \"y\": -690832.8486000...  \n",
       "1        <NA>        <NA>  {\"x\": 11889021.804299999, \"y\": -690836.6673000...  \n",
       "2        <NA>        <NA>  {\"x\": 11888821.429200001, \"y\": -690852.1935999...  \n",
       "3        <NA>        <NA>  {\"x\": 11883756.392299999, \"y\": -690880.3253000...  \n",
       "4        <NA>        <NA>  {\"x\": 11888179.449700002, \"y\": -690892.4519000...  "
      ]
     },
     "execution_count": 9,
     "metadata": {},
     "output_type": "execute_result"
    }
   ],
   "source": [
    "sedf = pd.DataFrame.spatial.from_featureclass(r'C:\\Users\\bputra\\OneDrive - ESRI Indonesia\\PT ESRI Indonesia\\Research\\code-script\\22_arcgis_for_python_study\\belajar_arcgis_for_python\\belajar_arcgis_for_python.gdb\\poi_jakbar_jaksel')\n",
    "sedf.info()\n",
    "sedf.head()"
   ]
  },
  {
   "cell_type": "code",
   "execution_count": 10,
   "metadata": {},
   "outputs": [],
   "source": [
    "map2 = gis.map(\"Jakarta Selatan, IDN\")\n",
    "map2.basemap = 'arcgis-imagery'\n",
    "#map2"
   ]
  },
  {
   "cell_type": "markdown",
   "metadata": {},
   "source": [
    "### Plot the SEDF data on a Map"
   ]
  },
  {
   "cell_type": "code",
   "execution_count": 11,
   "metadata": {},
   "outputs": [
    {
     "data": {
      "application/vnd.jupyter.widget-view+json": {
       "model_id": "8c4fb0103036453b8e50702003db2ced",
       "version_major": 2,
       "version_minor": 0
      },
      "text/plain": [
       "MapView(layout=Layout(height='400px', width='100%'))"
      ]
     },
     "metadata": {},
     "output_type": "display_data"
    },
    {
     "data": {
      "text/html": [
       "<div class=\"map-static-img-preview-aa0f2132-7498-44e3-82b2-7525ab105e33\"><img src=\"\"></img></div>"
      ],
      "text/plain": [
       "<IPython.core.display.HTML object>"
      ]
     },
     "metadata": {},
     "output_type": "display_data"
    },
    {
     "data": {
      "text/html": [
       "<div class=\"map-html-embed-preview-aa0f2132-7498-44e3-82b2-7525ab105e33\"></div>"
      ],
      "text/plain": [
       "<IPython.core.display.HTML object>"
      ]
     },
     "metadata": {},
     "output_type": "display_data"
    }
   ],
   "source": [
    "map2"
   ]
  },
  {
   "cell_type": "code",
   "execution_count": null,
   "metadata": {},
   "outputs": [],
   "source": [
    "map2.add_layer(sedf)"
   ]
  },
  {
   "cell_type": "code",
   "execution_count": null,
   "metadata": {},
   "outputs": [],
   "source": [
    "sedf.spatial.plot(map_widget=map2)"
   ]
  },
  {
   "cell_type": "markdown",
   "metadata": {},
   "source": [
    "### Use the Simple Renderer"
   ]
  },
  {
   "cell_type": "code",
   "execution_count": 13,
   "metadata": {},
   "outputs": [
    {
     "data": {
      "application/vnd.jupyter.widget-view+json": {
       "model_id": "e394f59f76fd40e196f6586ad80f7b68",
       "version_major": 2,
       "version_minor": 0
      },
      "text/plain": [
       "MapView(layout=Layout(height='400px', width='100%'))"
      ]
     },
     "metadata": {},
     "output_type": "display_data"
    },
    {
     "data": {
      "text/html": [
       "<div class=\"map-static-img-preview-221afe6f-f347-4634-9468-3893fab89442\"><img src=\"\"></img></div>"
      ],
      "text/plain": [
       "<IPython.core.display.HTML object>"
      ]
     },
     "metadata": {},
     "output_type": "display_data"
    },
    {
     "data": {
      "text/html": [
       "<div class=\"map-html-embed-preview-221afe6f-f347-4634-9468-3893fab89442\"></div>"
      ],
      "text/plain": [
       "<IPython.core.display.HTML object>"
      ]
     },
     "metadata": {},
     "output_type": "display_data"
    }
   ],
   "source": [
    "map3 = gis.map(\"Jakarta Selatan, IDN\")\n",
    "map3"
   ]
  },
  {
   "cell_type": "code",
   "execution_count": 14,
   "metadata": {},
   "outputs": [
    {
     "data": {
      "text/plain": [
       "True"
      ]
     },
     "execution_count": 14,
     "metadata": {},
     "output_type": "execute_result"
    }
   ],
   "source": [
    "sedf.spatial.plot(map_widget=map3, renderer_type = 's') # s = simple renderer"
   ]
  },
  {
   "cell_type": "markdown",
   "metadata": {},
   "source": [
    "### Use the Heatmap Renderer"
   ]
  },
  {
   "cell_type": "code",
   "execution_count": 15,
   "metadata": {},
   "outputs": [
    {
     "data": {
      "application/vnd.jupyter.widget-view+json": {
       "model_id": "ba559895d3cd4447a5ee6175b0260f16",
       "version_major": 2,
       "version_minor": 0
      },
      "text/plain": [
       "MapView(layout=Layout(height='400px', width='100%'))"
      ]
     },
     "metadata": {},
     "output_type": "display_data"
    },
    {
     "data": {
      "text/html": [
       "<div class=\"map-static-img-preview-cd488a2b-ee6e-439a-829b-e7bb925f1116\"><img src=\"\"></img></div>"
      ],
      "text/plain": [
       "<IPython.core.display.HTML object>"
      ]
     },
     "metadata": {},
     "output_type": "display_data"
    },
    {
     "data": {
      "text/html": [
       "<div class=\"map-html-embed-preview-cd488a2b-ee6e-439a-829b-e7bb925f1116\"></div>"
      ],
      "text/plain": [
       "<IPython.core.display.HTML object>"
      ]
     },
     "metadata": {},
     "output_type": "display_data"
    }
   ],
   "source": [
    "map4 = gis.map(\"Jakarta Selatan, IDN\")\n",
    "map4"
   ]
  },
  {
   "cell_type": "code",
   "execution_count": 16,
   "metadata": {},
   "outputs": [
    {
     "data": {
      "text/plain": [
       "True"
      ]
     },
     "execution_count": 16,
     "metadata": {},
     "output_type": "execute_result"
    }
   ],
   "source": [
    "sedf.spatial.plot(map_widget=map4, renderer_type = 'h', blur_radius = 7) # h = heatmap"
   ]
  },
  {
   "cell_type": "code",
   "execution_count": null,
   "metadata": {},
   "outputs": [],
   "source": []
  }
 ],
 "metadata": {
  "kernelspec": {
   "display_name": "Python [conda env:conda-arcgispro-py3-clone]",
   "language": "python",
   "name": "conda-env-conda-arcgispro-py3-clone-py"
  },
  "language_info": {
   "codemirror_mode": {
    "name": "ipython",
    "version": 3
   },
   "file_extension": ".py",
   "mimetype": "text/x-python",
   "name": "python",
   "nbconvert_exporter": "python",
   "pygments_lexer": "ipython3",
   "version": "3.9.18"
  }
 },
 "nbformat": 4,
 "nbformat_minor": 2
}
