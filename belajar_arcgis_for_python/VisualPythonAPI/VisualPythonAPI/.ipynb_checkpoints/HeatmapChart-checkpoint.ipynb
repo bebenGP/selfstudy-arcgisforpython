{
 "cells": [
  {
   "cell_type": "markdown",
   "metadata": {},
   "source": [
    "## Import modules"
   ]
  },
  {
   "cell_type": "code",
   "execution_count": 13,
   "metadata": {},
   "outputs": [],
   "source": [
    "from arcgis import GIS\n",
    "from arcgis.features import GeoAccessor, GeoSeriesAccessor\n",
    "import pandas as pd\n",
    "import matplotlib.pyplot as plt\n",
    "import numpy as np\n",
    "import matplotlib\n",
    "import csv\n",
    "\n",
    "%matplotlib inline"
   ]
  },
  {
   "cell_type": "markdown",
   "metadata": {},
   "source": [
    "## Create data lists from a csv file"
   ]
  },
  {
   "cell_type": "code",
   "execution_count": 3,
   "metadata": {},
   "outputs": [],
   "source": [
    "#create lists with data from a csv file\n",
    "ecos = []\n",
    "data = []\n",
    "\n",
    "with open(r\"C:\\EsriTraining\\VisualPythonAPI\\AcresBurned_by_Ecoregion_and_Month.csv\", newline='') as csvfile:\n",
    "    reader = csv.reader(csvfile, delimiter=',')\n",
    "    row1 = next(reader)\n",
    "    months = row1\n",
    "    months.remove('')\n",
    "    \n",
    "    \n",
    "    #add names of ecoregions in the first column to the list 'ecos'    \n",
    "    for row in reader:\n",
    "        ecos.append(row[0])\n",
    "        row_item = []\n",
    "        \n",
    "        #for each ecoregion add the acres burned value for each month to the list 'data'\n",
    "        for i in range(1, 13):\n",
    "            row_item.append(float(row[i]))          \n",
    "        data.append(row_item)\n",
    "print(ecos)\n",
    "print(months)\n",
    "print(data)"
   ]
  },
  {
   "cell_type": "code",
   "execution_count": 18,
   "metadata": {},
   "outputs": [],
   "source": [
    "# Divide the acres burned by 1000 so the numbers fit better on the chart\n",
    "data_formatted = []\n",
    "for list_item in data:\n",
    "    formatted_row = [round(x/1000) for x in list_item]\n",
    "    data_formatted.append(formatted_row)\n",
    "\n",
    "#create a NumPy array from the data_formatted list\n",
    "data_array = np.array() "
   ]
  },
  {
   "cell_type": "markdown",
   "metadata": {},
   "source": [
    "## Create a heatmap"
   ]
  },
  {
   "cell_type": "code",
   "execution_count": null,
   "metadata": {},
   "outputs": [],
   "source": [
    "# Create the chart\n",
    "fig, ax = plt.subplots()\n",
    "\n",
    "# Plot the data_array\n",
    "im = ax.imshow()\n",
    "plt.show()"
   ]
  },
  {
   "cell_type": "markdown",
   "metadata": {},
   "source": [
    "## Update the chart size and color map"
   ]
  },
  {
   "cell_type": "code",
   "execution_count": 24,
   "metadata": {},
   "outputs": [],
   "source": [
    "# Create the chart item and plot the array\n",
    "fig, ax = plt.subplots()\n",
    "im = ax.imshow(data_array)\n",
    "\n",
    "# Set chart size to a square 8 inches by 8 inches.\n",
    "fig.set_size_inches()\n",
    "\n",
    "# Plot the data_array with a specific colormap\n",
    "im = ax.imshow(data_array, cmap=    ) #add code to assign a specific colormap\n",
    "plt.show()"
   ]
  },
  {
   "cell_type": "markdown",
   "metadata": {},
   "source": [
    "## Add text annotations and save the chart"
   ]
  },
  {
   "cell_type": "code",
   "execution_count": null,
   "metadata": {},
   "outputs": [],
   "source": [
    "# Create the chart item with the custom properties\n",
    "fig, ax = plt.subplots()\n",
    "im = ax.imshow(data_array)\n",
    "fig.set_size_inches(8,8)\n",
    "im = ax.imshow(data_array, cmap=\"autumn_r\" )\n",
    "\n",
    "# Show all tick marks on the x and y axis.\n",
    "ax.set_xticks(np.arange(len(months)))\n",
    "ax.set_yticks(np.arange(len(ecos)))\n",
    "\n",
    "# Label the x and y axis with the respective list entries.\n",
    "ax.set_xticklabels(months)\n",
    "ax.set_yticklabels(ecos)\n",
    "\n",
    "# Rotate the tick labels and set their alignment.\n",
    "plt.setp(ax.get_xticklabels(), rotation=  ,   #define the rotation\n",
    "                               ha=\"right\",\n",
    "                               rotation_mode=\"anchor\")\n",
    "\n",
    "# Loop over data dimensions and create text annotations.\n",
    "for i in range(len(ecos)):\n",
    "   for j in range(len(months)):\n",
    "        text = ax.text(j, i, data_array[i, j],\n",
    "                       ha=  , va=  , color= )\n",
    "                       \n",
    "\n",
    "# Add a chart title and plot with a tight layout\n",
    "ax.set_title( )\n",
    "fig.tight_layout()\n",
    "plt.show()"
   ]
  }
 ],
 "metadata": {
  "kernelspec": {
   "display_name": "ArcGISPro",
   "language": "Python",
   "name": "python3"
  },
  "language_info": {
   "file_extension": ".py",
   "name": "python",
   "version": "3"
  }
 },
 "nbformat": 4,
 "nbformat_minor": 2
}
