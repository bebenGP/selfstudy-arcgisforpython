{
 "cells": [
  {
   "cell_type": "code",
   "execution_count": null,
   "metadata": {},
   "outputs": [],
   "source": [
    "from arcgis import GIS\n",
    "gis = GIS(\"https://arcgis.com\", \"username\", \"password\")"
   ]
  },
  {
   "cell_type": "code",
   "execution_count": null,
   "metadata": {},
   "outputs": [],
   "source": [
    "search_result = gis.content.search('title:Historical Wildfires in the Four Corners States', \n",
    "                                   item_type = 'Feature Layer', outside_org=True)\n",
    "fire_points = search_result[0]\n",
    "fire_points"
   ]
  },
  {
   "cell_type": "markdown",
   "metadata": {},
   "source": [
    "# Use Smart Mapping"
   ]
  },
  {
   "cell_type": "code",
   "execution_count": null,
   "metadata": {},
   "outputs": [],
   "source": [
    "map1 = gis.map()\n",
    "map1.zoom = 5\n",
    "map1.basemap = 'hybrid'\n",
    "map1.legend = True\n",
    "map1"
   ]
  },
  {
   "cell_type": "code",
   "execution_count": null,
   "metadata": {},
   "outputs": [],
   "source": [
    "map1.center = [37.013660, -109.053207]"
   ]
  },
  {
   "cell_type": "code",
   "execution_count": null,
   "metadata": {},
   "outputs": [],
   "source": [
    "# Add the feature layer to map1, using Smart Mapping to create a \n",
    "# graduated color map based on the Precip_Depart attribute field\n"
   ]
  },
  {
   "cell_type": "markdown",
   "metadata": {},
   "source": [
    "# Use autocasting"
   ]
  },
  {
   "cell_type": "code",
   "execution_count": null,
   "metadata": {},
   "outputs": [],
   "source": [
    "map2 = gis.map()\n",
    "map2.zoom = 5\n",
    "map2.basemap = 'gray-vector'\n",
    "map2.legend = True\n",
    "map2"
   ]
  },
  {
   "cell_type": "code",
   "execution_count": null,
   "metadata": {},
   "outputs": [],
   "source": [
    "map2.center = [37.013660, -109.053207]"
   ]
  },
  {
   "cell_type": "code",
   "execution_count": null,
   "metadata": {},
   "outputs": [],
   "source": [
    "# Set up a custom renderer\n",
    "\n",
    "renderer = {\"renderer\": __________, #Tell python to use JS autocasting\n",
    "            \"type\": \"classBreaks\",  \n",
    "            \"field\":\"Acres\",\n",
    "            \"transparency\":25,\n",
    "            \"minValue\":-9007199254740991}\n",
    "\n",
    "renderer[\"visualVariables\"] = [{   \"type\": \"sizeInfo\",\n",
    "                                            \"field\": \"Acres\",\n",
    "                                            \"valueUnit\": \"unknown\",\n",
    "                                            \"minSize\": _,\n",
    "                                            \"maxSize\": __,\n",
    "                                            \"minDataValue\": 0,\n",
    "                                            \"maxDataValue\": 500000\n",
    "                                    },\n",
    "                               {   \"type\": \"colorInfo\",\n",
    "                                           \"field\": \"Precip_Depart\",\n",
    "                                           \"stops\": [  {   \"value\": -6,\n",
    "                                                            \"color\": [166,97,26,255],\n",
    "                                                            \"label\": \"< -6\"\n",
    "                                                        },\n",
    "                                                        {   \"value\": -3,\n",
    "                                                            \"color\": [223,194,125,255],\n",
    "                                                            \"label\": \"-3\"\n",
    "                                                        },\n",
    "                                                        {   \"value\": 0,\n",
    "                                                            \"color\": [245,245,245,255],\n",
    "                                                            \"label\": \"0\"\n",
    "                                                        },\n",
    "                                                        {   \"value\": 3,\n",
    "                                                            \"color\": [128,205,193,255],\n",
    "                                                            \"label\": \"3\"\n",
    "                                                        },\n",
    "                                                        {   \"value\": 6,\n",
    "                                                            \"color\": [1,133,113,255],\n",
    "                                                            \"label\": \"> 6\"\n",
    "                                                        }],\n",
    "                                            \"legendOptions\": {\"title\": \"Departure from average precipitation (inches)\"}\n",
    "                                    }]\n",
    "\n",
    "renderer[\"classBreakInfos\"] =     [{   \"symbol\": {\n",
    "                                                \"color\": [227,139,79,255],\n",
    "                                                \"size\": 2,\n",
    "                                                \"angle\": 0,\n",
    "                                                \"xoffset\": 0,\n",
    "                                                \"yoffset\": 0,\n",
    "                                                \"type\": \"esriSMS\",\n",
    "                                                \"style\": \"esriSMSCircle\",\n",
    "                                                \"outline\": {\n",
    "                                                    \"color\": [51,51,51,20],\n",
    "                                                    \"width\": 0.75,\n",
    "                                                    \"type\": \"esriSLS\",\n",
    "                                                    \"style\": \"esriSLSSolid\"\n",
    "                                                }\n",
    "                                            },\n",
    "                                            \"classMaxValue\": 9007199254740991\n",
    "                                        }]"
   ]
  },
  {
   "cell_type": "code",
   "execution_count": null,
   "metadata": {},
   "outputs": [],
   "source": [
    "# Add the feature layer to map2, using autocasting to render the data\n",
    "\n"
   ]
  }
 ],
 "metadata": {
  "kernelspec": {
   "display_name": "ArcGISPro",
   "language": "Python",
   "name": "python3"
  },
  "language_info": {
   "file_extension": ".py",
   "name": "python",
   "version": "3"
  }
 },
 "nbformat": 4,
 "nbformat_minor": 2
}
