{
 "cells": [
  {
   "cell_type": "markdown",
   "metadata": {},
   "source": [
    "## Import modules"
   ]
  },
  {
   "cell_type": "code",
   "execution_count": 13,
   "metadata": {},
   "outputs": [],
   "source": [
    "from arcgis import GIS\n",
    "from arcgis.features import GeoAccessor, GeoSeriesAccessor\n",
    "import pandas as pd\n",
    "import matplotlib.pyplot as plt\n",
    "import numpy as np\n",
    "import matplotlib\n",
    "import csv\n",
    "\n",
    "%matplotlib inline"
   ]
  },
  {
   "cell_type": "markdown",
   "metadata": {},
   "source": [
    "## Create data lists from a csv file"
   ]
  },
  {
   "cell_type": "code",
   "execution_count": 23,
   "metadata": {},
   "outputs": [
    {
     "name": "stdout",
     "output_type": "stream",
     "text": [
      "['Eastern Temperate Forests', 'Great Plains', 'Marine West Coast Forest', 'Mediterranean California', 'North American Deserts', 'Northern Forests', 'Northwestern Forested Mountains', 'Southern Semiarid Highlands', 'Temperate Sierras', 'Tropical Wet Forests']\n",
      "['January', 'Februray', 'March', 'April', 'May', 'June', 'July', 'August', 'September', 'October', 'November', 'December']\n",
      "[[1102066.0, 1968605.0, 3191276.0, 2395261.0, 1094900.0, 512442.0, 452313.0, 187822.0, 297940.0, 191624.0, 392685.0, 301729.0], [659598.0, 1182902.0, 5146538.0, 10974668.0, 2575970.0, 1137977.0, 2084286.0, 1786083.0, 392567.0, 283398.0, 270538.0, 184345.0], [0.0, 0.0, 0.0, 0.0, 3642.0, 41161.0, 18578.0, 9687.0, 26822.0, 0.0, 0.0, 0.0], [6028.0, 20451.0, 8253.0, 18581.0, 205079.0, 689272.0, 1297319.0, 670162.0, 643144.0, 1517156.0, 62418.0, 307952.0], [38038.0, 40801.0, 109641.0, 699565.0, 423612.0, 3185764.0, 8790229.0, 6035736.0, 1281019.0, 138277.0, 18797.0, 11194.0], [5491.0, 0.0, 24267.0, 198929.0, 176037.0, 8966.0, 34994.0, 105427.0, 17122.0, 41381.0, 1349.0, 0.0], [8685.0, 5044.0, 33550.0, 48203.0, 244535.0, 2749948.0, 8572450.0, 8374177.0, 1166872.0, 261553.0, 13437.0, 57330.0], [2055.0, 17234.0, 100091.0, 137485.0, 535707.0, 665689.0, 69652.0, 20893.0, 0.0, 5706.0, 0.0, 1834.0], [2207.0, 20153.0, 59412.0, 295300.0, 1702219.0, 2032045.0, 496798.0, 152960.0, 69469.0, 68581.0, 57138.0, 12191.0], [135229.0, 130480.0, 96942.0, 172377.0, 324077.0, 155734.0, 41014.0, 76673.0, 6235.0, 4729.0, 29870.0, 23702.0]]\n"
     ]
    }
   ],
   "source": [
    "#create lists with data from a csv file\n",
    "ecos = []\n",
    "data = []\n",
    "\n",
    "with open(r\"C:\\Users\\bputra\\OneDrive - ESRI Indonesia\\PT ESRI Indonesia\\Research\\code-script\\22_arcgis_for_python_study\\belajar_arcgis_for_python\\VisualPythonAPI\\VisualPythonAPI\\AcresBurned_by_Ecoregion_and_Month.csv\", newline='') as csvfile:\n",
    "    reader = csv.reader(csvfile, delimiter=',')\n",
    "    row1 = next(reader)\n",
    "    months = row1\n",
    "    months.remove('')\n",
    "    \n",
    "    \n",
    "    #add names of ecoregions in the first column to the list 'ecos'    \n",
    "    for row in reader:\n",
    "        ecos.append(row[0])\n",
    "        row_item = []\n",
    "        \n",
    "        #for each ecoregion add the acres burned value for each month to the list 'data'\n",
    "        for i in range(1, 13):\n",
    "            row_item.append(float(row[i]))          \n",
    "        data.append(row_item)\n",
    "print(ecos)\n",
    "print(months)\n",
    "print(data)\n"
   ]
  },
  {
   "cell_type": "code",
   "execution_count": 26,
   "metadata": {},
   "outputs": [],
   "source": [
    "# Divide the acres burned by 1000 so the numbers fit better on the chart\n",
    "data_formatted = []\n",
    "for list_item in data:\n",
    "    formatted_row = [round(x/1000) for x in list_item]\n",
    "    data_formatted.append(formatted_row)\n",
    "\n",
    "#create a NumPy array from the data_formatted list\n",
    "data_array = np.array(data_formatted) "
   ]
  },
  {
   "cell_type": "markdown",
   "metadata": {},
   "source": [
    "## Create a heatmap"
   ]
  },
  {
   "cell_type": "code",
   "execution_count": 28,
   "metadata": {},
   "outputs": [
    {
     "data": {
      "image/png": "[encoded data removed]",
      "text/plain": [
       "<Figure size 640x480 with 1 Axes>"
      ]
     },
     "metadata": {},
     "output_type": "display_data"
    }
   ],
   "source": [
    "# Create the chart\n",
    "fig, ax = plt.subplots()\n",
    "\n",
    "# Plot the data_array\n",
    "im = ax.imshow(data_array)\n",
    "plt.show()"
   ]
  },
  {
   "cell_type": "markdown",
   "metadata": {},
   "source": [
    "## Update the chart size and color map"
   ]
  },
  {
   "cell_type": "code",
   "execution_count": 33,
   "metadata": {},
   "outputs": [
    {
     "data": {
      "image/png": "[encoded data removed]",
      "text/plain": [
       "<Figure size 800x800 with 1 Axes>"
      ]
     },
     "metadata": {},
     "output_type": "display_data"
    }
   ],
   "source": [
    "# Create the chart item and plot the array\n",
    "fig, ax = plt.subplots()\n",
    "im = ax.imshow(data_array)\n",
    "\n",
    "# Set chart size to a square 8 inches by 8 inches.\n",
    "fig.set_size_inches(8, 8)\n",
    "\n",
    "# Plot the data_array with a specific colormap\n",
    "im = ax.imshow(data_array, cmap= 'magma'   ) #add code to assign a specific colormap\n",
    "plt.show()"
   ]
  },
  {
   "cell_type": "markdown",
   "metadata": {},
   "source": [
    "## Add text annotations and save the chart"
   ]
  },
  {
   "cell_type": "code",
   "execution_count": 43,
   "metadata": {},
   "outputs": [
    {
     "ename": "SyntaxError",
     "evalue": "invalid syntax (<string>, line 22)",
     "output_type": "error",
     "traceback": [
      "\u001b[0;31m---------------------------------------------------------------------------\u001b[0m\n\u001b[0;31mSyntaxError\u001b[0m                               Traceback (most recent call last)",
      "File \u001b[0;34mC:\\Users\\bputra\\AppData\\Local\\Programs\\ArcGIS\\Pro\\bin\\Python\\envs\\arcgispro-py3\\lib\\ast.py\u001b[0m, in \u001b[0;32mparse\u001b[0m:\nLine \u001b[0;34m50\u001b[0m:    \u001b[34mreturn\u001b[39;49;00m \u001b[36mcompile\u001b[39;49;00m(source, filename, mode, flags,\u001b[37m\u001b[39;49;00m\n",
      "\u001b[0;31mSyntaxError\u001b[0m: invalid syntax (<string>, line 22)\n\u001b[0;31m---------------------------------------------------------------------------\u001b[0m"
     ]
    }
   ],
   "source": [
    "# Create the chart item with the custom properties\n",
    "fig, ax = plt.subplots()\n",
    "im = ax.imshow(data_array)\n",
    "fig.set_size_inches(8,8)\n",
    "im = ax.imshow(data_array, cmap=\"autumn_r\" )\n",
    "\n",
    "# Show all tick marks on the x and y axis.\n",
    "ax.set_xticks(np.arange(len(months)))\n",
    "ax.set_yticks(np.arange(len(ecos)))\n",
    "\n",
    "# Label the x and y axis with the respective list entries.\n",
    "ax.set_xticklabels(months)\n",
    "ax.set_yticklabels(ecos)\n",
    "\n",
    "# # Divide the acres burned by 1000 so the numbers fit better on the chart\n",
    "data_formatted = []\n",
    "for list_item in data:\n",
    "    formatted_row = [round(x/1000) for x in list_item]\n",
    "    data_formatted.append(formatted_row)\n",
    "\n",
    "#create a NumPy array from the data_formatted list\n",
    "data_array = np.array()  and set data_formatted\n",
    "plt.setp(ax.get_xticklabels(), rotation= 25 ,   #define the rotation\n",
    "                               ha=\"right\",\n",
    "                               rotation_mode=\"anchor\")\n",
    "\n",
    "# Loop over data dimensions and create text annotations.\n",
    "for i in range(len(ecos)):\n",
    "   for j in range(len(months)):\n",
    "        text = ax.text(j, i, data_array[i, j],\n",
    "                       ha=  , va=  , color= )\n",
    "                       \n",
    "\n",
    "# Add a chart title and plot with a tight layout\n",
    "ax.set_title( )\n",
    "fig.tight_layout()\n",
    "plt.show()"
   ]
  },
  {
   "cell_type": "code",
   "execution_count": null,
   "metadata": {},
   "outputs": [],
   "source": []
  },
  {
   "cell_type": "code",
   "execution_count": null,
   "metadata": {},
   "outputs": [],
   "source": []
  }
 ],
 "metadata": {
  "kernelspec": {
   "display_name": "ArcGISPro",
   "language": "Python",
   "name": "python3"
  },
  "language_info": {
   "file_extension": ".py",
   "name": "python",
   "version": "3"
  }
 },
 "nbformat": 4,
 "nbformat_minor": 2
}
