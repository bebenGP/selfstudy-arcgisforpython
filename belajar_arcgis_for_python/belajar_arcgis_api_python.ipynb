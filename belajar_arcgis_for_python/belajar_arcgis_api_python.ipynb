{
 "cells": [
  {
   "cell_type": "code",
   "execution_count": 7,
   "metadata": {},
   "outputs": [],
   "source": [
    "from arcgis.gis import GIS"
   ]
  },
  {
   "cell_type": "code",
   "execution_count": 8,
   "metadata": {},
   "outputs": [],
   "source": [
    "gis = GIS(\"https://ps.esriindonesia.co.id/portal\", \"bputra\", \"Bonaparte15!\")"
   ]
  },
  {
   "cell_type": "code",
   "execution_count": 9,
   "metadata": {},
   "outputs": [],
   "source": [
    "search_result = gis.content.search(\"title:informasi\", item_type=\"Feature Layer\", outside_org=False)"
   ]
  },
  {
   "cell_type": "code",
   "execution_count": 10,
   "metadata": {},
   "outputs": [
    {
     "data": {
      "text/plain": [
       "[<Item title:\"Peta_Analisis_dan_Prakiraan_hujan_bulanan/Informasi Prakiraan Hujan Bulanan\" type:Feature Layer Collection owner:nationalhub>, <Item title:\"Analisis_dan_Prakiraan_Hujan_bulanan/Informasi Prakiraan Hujan Bulanan\" type:Feature Layer Collection owner:nationalhub>, <Item title:\"InformasiAnalisisdanPrakiraanBulanan/ Prakiraan Sifat Hujan September 2020\" type:Feature Layer Collection owner:nationalhub>, <Item title:\"Analisis_dan_Prakiraan_Hujan_bulanan/Analisis dan Informasi Hujan Bulanan\" type:Feature Layer Collection owner:nationalhub>, <Item title:\"informasiBulanan/Informasi Prakiraan Curah Hujan Bulanan\" type:Feature Layer Collection owner:nationalhub>, <Item title:\"InformasiAnalisisdanPrakiraanBulanan/ Prakiraan Curah Hujan Oktober 2020\" type:Feature Layer Collection owner:nationalhub>, <Item title:\"Informasi_bulanan/Prakiraan Sifat Hujan Juni 2020\" type:Feature Layer Collection owner:nationalhub>, <Item title:\"informasiBulanan/Prakiraan Sifat Hujan Februari 2020\" type:Feature Layer Collection owner:nationalhub>, <Item title:\"Analisis_dan_Prakiraan_Hujan_bulanan_Juni_2020/Informasi Prakiraan Prakiraan Hujan Bulanan\" type:Feature Layer Collection owner:nationalhub>, <Item title:\"Analisis_dan_Prakiraan_Hujan_bulanan/Informasi Prakiraan Hujan Bulanan\" type:Feature Layer Collection owner:nationalhub>]"
      ]
     },
     "execution_count": 10,
     "metadata": {},
     "output_type": "execute_result"
    }
   ],
   "source": [
    "search_result"
   ]
  },
  {
   "cell_type": "code",
   "execution_count": null,
   "metadata": {},
   "outputs": [],
   "source": []
  }
 ],
 "metadata": {
  "kernelspec": {
   "display_name": "ArcGISPro",
   "language": "Python",
   "name": "python3"
  },
  "language_info": {
   "file_extension": ".py",
   "name": "python",
   "version": "3"
  }
 },
 "nbformat": 4,
 "nbformat_minor": 2
}
